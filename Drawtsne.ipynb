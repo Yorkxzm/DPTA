{
 "cells": [
  {
   "cell_type": "markdown",
   "metadata": {},
   "source": [
    "# How to Draw t-SNE Figs Similar to Ours in Paper\n",
    "\n",
    "A simple example in a subset of VTAB dataset"
   ]
  },
  {
   "cell_type": "markdown",
   "metadata": {},
   "source": [
    "First, import all the libraries and load the dataset"
   ]
  },
  {
   "cell_type": "code",
   "execution_count": null,
   "metadata": {},
   "outputs": [
    {
     "name": "stderr",
     "output_type": "stream",
     "text": [
      "e:\\anaconda3\\lib\\site-packages\\torchvision\\transforms\\transforms.py:332: UserWarning: Argument 'interpolation' of type int is deprecated since 0.13 and will be removed in 0.15. Please use InterpolationMode enum.\n",
      "  warnings.warn(\n"
     ]
    }
   ],
   "source": [
    "from make_dataset.get_data import vtab\n",
    "import numpy as np\n",
    "import pandas as pd\n",
    "from make_dataset.incre_dataset import BasicDataset,IncrementDataset,select_data_with_labels\n",
    "from torch.utils.data import DataLoader\n",
    "import torch\n",
    "import json\n",
    "from sklearn.manifold import TSNE\n",
    "import matplotlib.pyplot as plt\n",
    "from dl_models.DPTA import Learner\n",
    "def load_json(settings_path):\n",
    "    with open(settings_path) as data_file:\n",
    "        param = json.load(data_file)\n",
    "    return param\n",
    "\n",
    "args = load_json('exp_params/vtab_10_10_vit-im21_adapter.json')\n",
    "\n",
    "vtab_dataset = vtab() #load the vtab data\n",
    "vtab_dataset.download_data(train_dir='make_dataset/dataset/vtab/train',test_dir='make_dataset/dataset/vtab/test')"
   ]
  },
  {
   "cell_type": "markdown",
   "metadata": {},
   "source": [
    "Here we use the first five classes in task 1 of the VTAB dataset as on-task samples, the trained adapter can be found in./adapters/vtab."
   ]
  },
  {
   "cell_type": "code",
   "execution_count": 2,
   "metadata": {},
   "outputs": [],
   "source": [
    "incdata = IncrementDataset(init_cls=0,increment=10)\n",
    "dataset1= incdata.get_dataset(np.arange(0, 5), source=\"test\", mode=\"test\")\n",
    "loaders1 = DataLoader(dataset1,batch_size=9999,shuffle=False) #big batch_size, we select all samples in loader in a stupid way\n",
    "\n",
    "#off-task samples with class 20-30\n",
    "dataset2= incdata.get_dataset(np.arange(20, 27), source=\"test\", mode=\"test\")\n",
    "loaders2 = DataLoader(dataset2,batch_size=9999,shuffle=False)\n",
    "for i,x1,y1 in loaders1:\n",
    "    x1 = x1.cuda()\n",
    "\n",
    "for i,x2,y2 in loaders2:\n",
    "    x2 = x2.cuda()"
   ]
  },
  {
   "cell_type": "markdown",
   "metadata": {},
   "source": [
    "Load the DPTA model, set the load_model = True to load the adapters.\n",
    "\n",
    "We have proposed five trained adapters in VTAB dataset in our code."
   ]
  },
  {
   "cell_type": "code",
   "execution_count": null,
   "metadata": {},
   "outputs": [],
   "source": [
    "model = Learner(args,load_model=True,load_dir='adapters/vtab')\n",
    "network = model._network.to('cuda')\n",
    "ptm = network.ptm"
   ]
  },
  {
   "cell_type": "markdown",
   "metadata": {},
   "source": [
    "Test the model's accuracy:"
   ]
  },
  {
   "cell_type": "code",
   "execution_count": 10,
   "metadata": {},
   "outputs": [
    {
     "name": "stdout",
     "output_type": "stream",
     "text": [
      "start evals\n",
      "A_F acc on VTAB:93.73425970077514%\n"
     ]
    }
   ],
   "source": [
    "for tasks in range(incdata.nb_tasks):\n",
    "    model.incremental_train(incdata) # if load the model, we do not train the adapter again,and here we just build two prototypes.\n",
    "dataset= incdata.get_dataset(np.arange(0, 50), source=\"test\", mode=\"test\")\n",
    "loaders = DataLoader(dataset,batch_size=32,shuffle=True)\n",
    "acc = model.eval_task_custom(loaders)\n",
    "print(f'A_F acc on VTAB:{acc*100}%')"
   ]
  },
  {
   "cell_type": "markdown",
   "metadata": {},
   "source": [
    "Feature Extraction by the PTM"
   ]
  },
  {
   "cell_type": "code",
   "execution_count": 4,
   "metadata": {},
   "outputs": [],
   "source": [
    "#forward proto is extract the representation of samples. withoutft means with out adapter.\n",
    "emb1 = ptm.forward_proto_withoutft(x1) #without adaption\n",
    "emb1 = emb1.cpu().detach()\n",
    "\n",
    "emb2 = ptm.forward_proto(x1,adapt_index=0) #correct adapter\n",
    "emb2 = emb2.cpu().detach()\n",
    "\n",
    "#outliers:\n",
    "emb3 = ptm.forward_proto(x2,adapt_index=0)# off-task samples\n",
    "emb3 = emb3.cpu().detach()\n",
    "emb4 = ptm.forward_proto(x1,adapt_index=3)# on-task sample but selected the wrong adapter\n",
    "emb4 = emb4.cpu().detach()"
   ]
  },
  {
   "cell_type": "code",
   "execution_count": 6,
   "metadata": {},
   "outputs": [],
   "source": [
    "dict1 ={'emb1':emb1,\n",
    "        'emb2':emb2,\n",
    "        'emb3':emb3,\n",
    "        'emb4':emb4,\n",
    "\n",
    "        'y1':y1,\n",
    "        'y2':y2,\n",
    "}\n",
    "torch.save(dict1,'tsne_dict.pt')"
   ]
  },
  {
   "cell_type": "markdown",
   "metadata": {},
   "source": [
    "The dataset is too large to upload, so here we saved the data subset into .pt file for loading."
   ]
  },
  {
   "cell_type": "code",
   "execution_count": 34,
   "metadata": {},
   "outputs": [],
   "source": [
    "dict1 = torch.load('tsne_dict.pt')\n",
    "emb1 = dict1['emb1']\n",
    "emb2 = dict1['emb2']\n",
    "emb3 = dict1['emb3']\n",
    "emb4 = dict1['emb4']\n",
    "y1 = dict1['y1']\n",
    "y2 = dict1['y2']"
   ]
  },
  {
   "cell_type": "markdown",
   "metadata": {},
   "source": [
    "Draw the sample representations with original PTM\n",
    "\n",
    "Note that the figure of each startup code run may be different. There may be some differences in the positions of the clusters here and the Figure 3 in the paper, but the spatial distribution of samples is similar."
   ]
  },
  {
   "cell_type": "code",
   "execution_count": 66,
   "metadata": {},
   "outputs": [
    {
     "data": {
      "image/png": "[encoded data removed]",
      "text/plain": [
       "<Figure size 432x288 with 1 Axes>"
      ]
     },
     "metadata": {
      "needs_background": "light"
     },
     "output_type": "display_data"
    }
   ],
   "source": [
    "tsne = TSNE()\n",
    "np.random.seed(40)\n",
    "emb1tsne = tsne.fit_transform(emb1)\n",
    "datas1 = pd.DataFrame(emb1tsne)\n",
    "datas1['labels']=y1\n",
    "\n",
    "color_list = ['red','blue','green','black','orange']\n",
    "#marker_list = ['8','v','^','v','^']\n",
    "marker = 'v'\n",
    "for i in range(5):\n",
    "    class_data = datas1[datas1['labels']==i]\n",
    "    plt.scatter(class_data.iloc[:,0],class_data.iloc[:,1],edgecolor='face',label = f'c{i}',c=color_list[i],marker=marker)\n",
    "plt.axis('off')\n",
    "plt.show()"
   ]
  },
  {
   "cell_type": "markdown",
   "metadata": {},
   "source": [
    "Draw the sample representations of on-task samples in the subspace\n",
    "\n",
    "We can see that with adapted PTM, the sample representations are clustered towards the class center and more separable."
   ]
  },
  {
   "cell_type": "code",
   "execution_count": 68,
   "metadata": {},
   "outputs": [
    {
     "data": {
      "image/png": "[encoded data removed]",
      "text/plain": [
       "<Figure size 432x288 with 1 Axes>"
      ]
     },
     "metadata": {
      "needs_background": "light"
     },
     "output_type": "display_data"
    }
   ],
   "source": [
    "tsne = TSNE()\n",
    "np.random.seed(20)\n",
    "emb2tsne = tsne.fit_transform(emb2)\n",
    "datas2 = pd.DataFrame(emb2tsne)\n",
    "datas2['labels']=y1\n",
    "\n",
    "color_list = ['red','blue','green','black','orange']\n",
    "for i in range(5):\n",
    "    class_data = datas2[datas2['labels']==i]\n",
    "    plt.scatter(class_data.iloc[:,0],class_data.iloc[:,1],edgecolor='face',label = f'c{i}',c=color_list[i],marker=marker)\n",
    "plt.axis('off')\n",
    "plt.show()"
   ]
  },
  {
   "cell_type": "markdown",
   "metadata": {},
   "source": [
    "Draw the sample representations of on-task samples and outliers in the subspace,the outliers will be far away from on-task samples.\n",
    "\n",
    "Please notice, if you want to draw outliers with on-task samples, please use one t-SNE model to embedding them in one subspace."
   ]
  },
  {
   "cell_type": "code",
   "execution_count": null,
   "metadata": {},
   "outputs": [
    {
     "data": {
      "image/png": "[encoded data removed]",
      "text/plain": [
       "<Figure size 432x288 with 1 Axes>"
      ]
     },
     "metadata": {
      "needs_background": "light"
     },
     "output_type": "display_data"
    }
   ],
   "source": [
    "emb23 = torch.cat([emb2,emb3,emb4])\n",
    "label23 = torch.cat([y1,y2,(y1-10)])\n",
    "tsne = TSNE()\n",
    "np.random.seed(30) #set the random seed to draw different fig\n",
    "emb2tsne = tsne.fit_transform(emb23)\n",
    "datas2 = pd.DataFrame(emb2tsne)\n",
    "datas2['labels']=label23\n",
    "\n",
    "marker = 'v'\n",
    "color_list = ['red','blue','green','black','orange']\n",
    "#on task samples with the correct adapter\n",
    "for i in range(5):\n",
    "    class_data = datas2[datas2['labels']==i]\n",
    "    plt.scatter(class_data.iloc[:,0],class_data.iloc[:,1],label = f'c{i}',c=color_list[i],marker=marker)\n",
    "plt.axis('off')\n",
    "\n",
    "## OUTLIERS:\n",
    "for i in range(5):\n",
    "    class_data = datas2[datas2['labels']==i-10]\n",
    "    plt.scatter(class_data.iloc[:,0],class_data.iloc[:,1],label = f'c{i}',c='#7B7B7B',marker=marker)\n",
    "plt.axis('off')\n",
    "for i in range(20,27):\n",
    "    class_data = datas2[datas2['labels']==i]\n",
    "    plt.scatter(class_data.iloc[:,0],class_data.iloc[:,1],label ='others',c='#00FEFE',marker='x')\n",
    "plt.axis('off')\n",
    "plt.show()"
   ]
  }
 ],
 "metadata": {
  "kernelspec": {
   "display_name": "base",
   "language": "python",
   "name": "python3"
  },
  "language_info": {
   "codemirror_mode": {
    "name": "ipython",
    "version": 3
   },
   "file_extension": ".py",
   "mimetype": "text/x-python",
   "name": "python",
   "nbconvert_exporter": "python",
   "pygments_lexer": "ipython3",
   "version": "3.9.7"
  }
 },
 "nbformat": 4,
 "nbformat_minor": 2
}
